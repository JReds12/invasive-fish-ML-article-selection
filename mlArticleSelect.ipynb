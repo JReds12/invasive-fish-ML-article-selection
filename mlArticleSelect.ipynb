{
 "cells": [
  {
   "cell_type": "code",
   "execution_count": 55,
   "id": "b000b84d-051e-4dc2-8cd8-e645eb0d45c6",
   "metadata": {},
   "outputs": [],
   "source": [
    "# import libraries\n",
    "import pandas as pd\n",
    "import re\n",
    "import nltk\n"
   ]
  },
  {
   "cell_type": "markdown",
   "id": "d57e585f-fb46-4509-8b85-b82549ef6ee5",
   "metadata": {},
   "source": [
    "#### Date Cleaning:\n",
    "Selected articles were indicated, but irrelevant articles were not. "
   ]
  },
  {
   "cell_type": "code",
   "execution_count": 33,
   "id": "b8ec3c03-81d6-4b55-bd33-d9ab57a4ae96",
   "metadata": {},
   "outputs": [
    {
     "name": "stdout",
     "output_type": "stream",
     "text": [
      "123\n",
      "444\n",
      "110\n",
      "197\n"
     ]
    }
   ],
   "source": [
    "# Create new column names because text file has no header\n",
    "col_names = [\"Type\", \"Author\", \"Year\", \"Title\", \"Journal Name\", \"Volume\", \"Issue\", \"Pages\", \"URL\", \"Keywords\", \"Abstract\", \"DOI\", \"PDF Name\"]\n",
    "\n",
    "# Convert text files into a dataframe\n",
    "silver_yes = pd.read_csv('Hypopthalmichthys_molitrix_yes.txt', sep = '\\t', header = None, dtype = str, names = col_names, quotechar = '\"')\n",
    "silver_all = pd.read_csv('Hypopthalmichthys_molitrix_all.txt', sep = '\\t', header = None, dtype = str, names = col_names, quotechar = '\"')\n",
    "bighead_yes = pd.read_csv('Hypopthalmichthys_nobilis_yes.txt', sep = '\\t', header = None, dtype = str, names = col_names, quotechar = '\"')\n",
    "bighead_all = pd.read_csv('Hypopthalmichthys_nobilis_all.txt', sep = '\\t', header = None, dtype = str, names = col_names, quotechar = '\"')\n",
    "\n",
    "# Check entries of selected articles\n",
    "print(len(silver_yes))\n",
    "print(len(silver_all))\n",
    "print(len(bighead_yes))\n",
    "print(len(bighead_all))\n"
   ]
  },
  {
   "cell_type": "code",
   "execution_count": 34,
   "id": "3b3df702-5a24-40b8-8d6d-a64104c32559",
   "metadata": {},
   "outputs": [
    {
     "name": "stdout",
     "output_type": "stream",
     "text": [
      "233\n",
      "874\n"
     ]
    }
   ],
   "source": [
    "# Combine data with selected articles\n",
    "carp_yes = pd.concat([silver_yes, bighead_yes], ignore_index = True)\n",
    "\n",
    "# Combine all article - duplicates removed in next step to get irrelevant articles\n",
    "carp_concat = pd.concat([silver_yes, silver_all, bighead_yes, bighead_all], ignore_index = True)\n",
    "\n",
    "print(len(carp_yes))\n",
    "print(len(carp_concat))\n"
   ]
  },
  {
   "cell_type": "code",
   "execution_count": 35,
   "id": "d68c9b50-c055-4abf-a7d9-3137e4516ead",
   "metadata": {},
   "outputs": [
    {
     "name": "stdout",
     "output_type": "stream",
     "text": [
      "408\n"
     ]
    }
   ],
   "source": [
    "# Drop duplicates to get unselected articles\n",
    "carp_no = carp_concat.drop_duplicates(keep = False, ignore_index = True)\n",
    "\n",
    "print(len(carp_no))\n"
   ]
  },
  {
   "cell_type": "code",
   "execution_count": 41,
   "id": "3476984c-86a9-4d31-a91b-f8ca00d55c43",
   "metadata": {},
   "outputs": [],
   "source": [
    "# subset and select by columns\n",
    "columns = [\"Author\", \"Year\", \"Title\", \"Journal Name\", \"Volume\", \"Issue\", \"Pages\", \"Abstract\"]\n",
    "\n",
    "carp_yes = carp_yes[columns]\n",
    "carp_no = carp_no[columns]\n"
   ]
  },
  {
   "cell_type": "code",
   "execution_count": 48,
   "id": "57d26d31-6e5b-4e67-a451-d1c86c8197f5",
   "metadata": {},
   "outputs": [],
   "source": [
    "# add category columns\n",
    "carp_yes['categories'] = 'yes'\n",
    "carp_no['categories'] = 'no'\n"
   ]
  },
  {
   "cell_type": "code",
   "execution_count": 52,
   "id": "6757ae31-02a4-48d8-a5cc-ab6407a2fc2a",
   "metadata": {},
   "outputs": [
    {
     "name": "stdout",
     "output_type": "stream",
     "text": [
      "641\n"
     ]
    }
   ],
   "source": [
    "# combine df\n",
    "carp_all = pd.concat([carp_yes, carp_no], ignore_index = True)\n",
    "\n",
    "print(len(carp_all))"
   ]
  },
  {
   "cell_type": "code",
   "execution_count": 51,
   "id": "0c26a5c9-8595-428c-976c-8d1dbe0173ef",
   "metadata": {},
   "outputs": [],
   "source": [
    "# Export to csv files\n",
    "carp_all.to_csv('hypopthalmichthys_selected_articles.csv', index = False)\n"
   ]
  },
  {
   "cell_type": "markdown",
   "id": "95d1264e-7ff5-42f8-a17e-bfe418af42eb",
   "metadata": {},
   "source": [
    "#### Data Prep"
   ]
  },
  {
   "cell_type": "code",
   "execution_count": 53,
   "id": "71f5317b-028f-4c28-9075-bebf7f7b1053",
   "metadata": {},
   "outputs": [
    {
     "name": "stdout",
     "output_type": "stream",
     "text": [
      "641\n"
     ]
    }
   ],
   "source": [
    "# Import csv files\n",
    "carp_file = pd.read_csv('hypopthalmichthys_selected_articles.csv')\n",
    "\n",
    "print(len(carp_file))\n"
   ]
  },
  {
   "cell_type": "code",
   "execution_count": 54,
   "id": "470c5fbc-237e-443a-a301-53a30c52ea60",
   "metadata": {},
   "outputs": [
    {
     "name": "stdout",
     "output_type": "stream",
     "text": [
      "641\n"
     ]
    }
   ],
   "source": [
    "# Drop any abstracts with NAs\n",
    "carp_file.dropna(subset = ['Abstract'], inplace = True)\n",
    "\n",
    "print(len(carp_file))\n"
   ]
  },
  {
   "cell_type": "markdown",
   "id": "965928d0-4c0e-4802-a5b6-a73e5e24e8fc",
   "metadata": {},
   "source": [
    "#### Text Processing"
   ]
  }
 ],
 "metadata": {
  "kernelspec": {
   "display_name": "venvArticleSelect",
   "language": "python",
   "name": "venvarticleselect"
  },
  "language_info": {
   "codemirror_mode": {
    "name": "ipython",
    "version": 3
   },
   "file_extension": ".py",
   "mimetype": "text/x-python",
   "name": "python",
   "nbconvert_exporter": "python",
   "pygments_lexer": "ipython3",
   "version": "3.12.2"
  }
 },
 "nbformat": 4,
 "nbformat_minor": 5
}
