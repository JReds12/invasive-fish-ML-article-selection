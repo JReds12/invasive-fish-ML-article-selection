{
 "cells": [
  {
   "cell_type": "code",
   "execution_count": 106,
   "id": "b000b84d-051e-4dc2-8cd8-e645eb0d45c6",
   "metadata": {},
   "outputs": [
    {
     "name": "stderr",
     "output_type": "stream",
     "text": [
      "[nltk_data] Downloading package stopwords to\n",
      "[nltk_data]     C:\\Users\\redinger\\AppData\\Roaming\\nltk_data...\n",
      "[nltk_data]   Package stopwords is already up-to-date!\n"
     ]
    }
   ],
   "source": [
    "# import libraries\n",
    "import pandas as pd\n",
    "import re\n",
    "import string\n",
    "import matplotlib.pyplot as plt\n",
    "import nltk\n",
    "from nltk.corpus import stopwords\n",
    "from nltk.tokenize import word_tokenize\n",
    "from nltk.stem import PorterStemmer, SnowballStemmer, WordNetLemmatizer\n",
    "nltk.download('stopwords')\n",
    "\n",
    "from sklearn.feature_extraction.text import TfidfVectorizer\n",
    "from sklearn.preprocessing import LabelEncoder\n",
    "from sklearn.model_selection import train_test_split\n",
    "from sklearn.feature_extraction.text import CountVectorizer\n",
    "from sklearn.model_selection import cross_val_score, cross_val_predict\n",
    "from sklearn import metrics\n",
    "from sklearn.linear_model import LogisticRegression\n",
    "from sklearn.metrics import f1_score, roc_auc_score, roc_curve, accuracy_score\n",
    "\n"
   ]
  },
  {
   "cell_type": "markdown",
   "id": "d57e585f-fb46-4509-8b85-b82549ef6ee5",
   "metadata": {},
   "source": [
    "#### Date Cleaning:\n",
    "Selected articles were indicated, but irrelevant articles were not. "
   ]
  },
  {
   "cell_type": "code",
   "execution_count": 5,
   "id": "b8ec3c03-81d6-4b55-bd33-d9ab57a4ae96",
   "metadata": {},
   "outputs": [
    {
     "name": "stdout",
     "output_type": "stream",
     "text": [
      "123\n",
      "444\n",
      "110\n",
      "197\n"
     ]
    }
   ],
   "source": [
    "# Create new column names because text file has no header\n",
    "col_names = [\"Type\", \"Author\", \"Year\", \"Title\", \"Journal Name\", \"Volume\", \"Issue\", \"Pages\", \"URL\", \"Keywords\", \"Abstract\", \"DOI\", \"PDF Name\"]\n",
    "\n",
    "# Convert text files into a dataframe\n",
    "silver_yes = pd.read_csv('Hypopthalmichthys_molitrix_yes.txt', sep = '\\t', header = None, dtype = str, names = col_names, quotechar = '\"')\n",
    "silver_all = pd.read_csv('Hypopthalmichthys_molitrix_all.txt', sep = '\\t', header = None, dtype = str, names = col_names, quotechar = '\"')\n",
    "bighead_yes = pd.read_csv('Hypopthalmichthys_nobilis_yes.txt', sep = '\\t', header = None, dtype = str, names = col_names, quotechar = '\"')\n",
    "bighead_all = pd.read_csv('Hypopthalmichthys_nobilis_all.txt', sep = '\\t', header = None, dtype = str, names = col_names, quotechar = '\"')\n",
    "\n",
    "# Check entries of selected articles\n",
    "print(len(silver_yes))\n",
    "print(len(silver_all))\n",
    "print(len(bighead_yes))\n",
    "print(len(bighead_all))\n"
   ]
  },
  {
   "cell_type": "code",
   "execution_count": 6,
   "id": "3b3df702-5a24-40b8-8d6d-a64104c32559",
   "metadata": {},
   "outputs": [
    {
     "name": "stdout",
     "output_type": "stream",
     "text": [
      "233\n",
      "874\n"
     ]
    }
   ],
   "source": [
    "# Combine data with selected articles\n",
    "carp_yes = pd.concat([silver_yes, bighead_yes], ignore_index = True)\n",
    "\n",
    "# Combine all article - duplicates removed in next step to get irrelevant articles\n",
    "carp_concat = pd.concat([silver_yes, silver_all, bighead_yes, bighead_all], ignore_index = True)\n",
    "\n",
    "print(len(carp_yes))\n",
    "print(len(carp_concat))\n"
   ]
  },
  {
   "cell_type": "code",
   "execution_count": 7,
   "id": "d68c9b50-c055-4abf-a7d9-3137e4516ead",
   "metadata": {},
   "outputs": [
    {
     "name": "stdout",
     "output_type": "stream",
     "text": [
      "408\n"
     ]
    }
   ],
   "source": [
    "# Drop duplicates to get unselected articles\n",
    "carp_no = carp_concat.drop_duplicates(keep = False, ignore_index = True)\n",
    "\n",
    "print(len(carp_no))\n"
   ]
  },
  {
   "cell_type": "code",
   "execution_count": 8,
   "id": "3476984c-86a9-4d31-a91b-f8ca00d55c43",
   "metadata": {},
   "outputs": [],
   "source": [
    "# subset and select by columns\n",
    "columns = [\"Author\", \"Year\", \"Title\", \"Journal Name\", \"Volume\", \"Issue\", \"Pages\", \"Abstract\"]\n",
    "\n",
    "carp_yes = carp_yes[columns]\n",
    "carp_no = carp_no[columns]\n"
   ]
  },
  {
   "cell_type": "code",
   "execution_count": 9,
   "id": "57d26d31-6e5b-4e67-a451-d1c86c8197f5",
   "metadata": {},
   "outputs": [],
   "source": [
    "# add category columns\n",
    "carp_yes['categories'] = 'yes'\n",
    "carp_no['categories'] = 'no'\n"
   ]
  },
  {
   "cell_type": "code",
   "execution_count": 10,
   "id": "6757ae31-02a4-48d8-a5cc-ab6407a2fc2a",
   "metadata": {},
   "outputs": [
    {
     "name": "stdout",
     "output_type": "stream",
     "text": [
      "641\n"
     ]
    }
   ],
   "source": [
    "# combine df\n",
    "carp_all = pd.concat([carp_yes, carp_no], ignore_index = True)\n",
    "\n",
    "print(len(carp_all))"
   ]
  },
  {
   "cell_type": "code",
   "execution_count": 9,
   "id": "0c26a5c9-8595-428c-976c-8d1dbe0173ef",
   "metadata": {},
   "outputs": [],
   "source": [
    "# Export to csv files\n",
    "carp_all.to_csv('hypopthalmichthys_selected_articles.csv', index = False)\n"
   ]
  },
  {
   "cell_type": "markdown",
   "id": "95d1264e-7ff5-42f8-a17e-bfe418af42eb",
   "metadata": {},
   "source": [
    "#### Data Prep"
   ]
  },
  {
   "cell_type": "code",
   "execution_count": 11,
   "id": "71f5317b-028f-4c28-9075-bebf7f7b1053",
   "metadata": {},
   "outputs": [
    {
     "name": "stdout",
     "output_type": "stream",
     "text": [
      "641\n"
     ]
    }
   ],
   "source": [
    "# Import csv files\n",
    "carp_file = pd.read_csv('hypopthalmichthys_selected_articles.csv', dtype = str)\n",
    "\n",
    "print(len(carp_file))\n"
   ]
  },
  {
   "cell_type": "code",
   "execution_count": 12,
   "id": "470c5fbc-237e-443a-a301-53a30c52ea60",
   "metadata": {},
   "outputs": [
    {
     "name": "stdout",
     "output_type": "stream",
     "text": [
      "641\n"
     ]
    }
   ],
   "source": [
    "# Drop any abstracts with NAs\n",
    "carp_file.dropna(subset = ['Abstract'], inplace = True)\n",
    "\n",
    "print(len(carp_file))\n"
   ]
  },
  {
   "cell_type": "code",
   "execution_count": 13,
   "id": "e17c48df-fcbe-4d24-8ed8-8f45de3b74de",
   "metadata": {},
   "outputs": [
    {
     "data": {
      "text/html": [
       "<div>\n",
       "<style scoped>\n",
       "    .dataframe tbody tr th:only-of-type {\n",
       "        vertical-align: middle;\n",
       "    }\n",
       "\n",
       "    .dataframe tbody tr th {\n",
       "        vertical-align: top;\n",
       "    }\n",
       "\n",
       "    .dataframe thead th {\n",
       "        text-align: right;\n",
       "    }\n",
       "</style>\n",
       "<table border=\"1\" class=\"dataframe\">\n",
       "  <thead>\n",
       "    <tr style=\"text-align: right;\">\n",
       "      <th></th>\n",
       "      <th>Author</th>\n",
       "      <th>Year</th>\n",
       "      <th>Title</th>\n",
       "      <th>Journal Name</th>\n",
       "      <th>Volume</th>\n",
       "      <th>Issue</th>\n",
       "      <th>Pages</th>\n",
       "      <th>Abstract</th>\n",
       "      <th>categories</th>\n",
       "      <th>encoding</th>\n",
       "    </tr>\n",
       "  </thead>\n",
       "  <tbody>\n",
       "    <tr>\n",
       "      <th>0</th>\n",
       "      <td>Aldridge, C. A., and E. C. Boone</td>\n",
       "      <td>2022</td>\n",
       "      <td>Simple models to quickly estimate the probable...</td>\n",
       "      <td>River Research and Applications</td>\n",
       "      <td>38</td>\n",
       "      <td>6</td>\n",
       "      <td>1154-1166</td>\n",
       "      <td>Species distribution models provide biologists...</td>\n",
       "      <td>yes</td>\n",
       "      <td>1</td>\n",
       "    </tr>\n",
       "    <tr>\n",
       "      <th>1</th>\n",
       "      <td>Banan, A., A. Nasiri, and A. Taheri-Garavand</td>\n",
       "      <td>2020</td>\n",
       "      <td>Deep learning-based appearance features extrac...</td>\n",
       "      <td>Aquacultural Engineering</td>\n",
       "      <td>89</td>\n",
       "      <td>NaN</td>\n",
       "      <td>NaN</td>\n",
       "      <td>Fish species identification is vital for aquac...</td>\n",
       "      <td>yes</td>\n",
       "      <td>1</td>\n",
       "    </tr>\n",
       "    <tr>\n",
       "      <th>2</th>\n",
       "      <td>Barnes, M. A., W. L. Chadderton, C. L. Jerde, ...</td>\n",
       "      <td>2021</td>\n",
       "      <td>Environmental conditions influence edna partic...</td>\n",
       "      <td>Environmental DNA</td>\n",
       "      <td>3</td>\n",
       "      <td>3</td>\n",
       "      <td>643-653</td>\n",
       "      <td>Knowledge about the size of environmental DNA ...</td>\n",
       "      <td>yes</td>\n",
       "      <td>1</td>\n",
       "    </tr>\n",
       "    <tr>\n",
       "      <th>3</th>\n",
       "      <td>Behera, B. K., A. K. Bera, P. Paria, A. Das, P...</td>\n",
       "      <td>2018</td>\n",
       "      <td>Identification and pathogenicity of plesiomona...</td>\n",
       "      <td>Aquaculture</td>\n",
       "      <td>493</td>\n",
       "      <td>NaN</td>\n",
       "      <td>314-318</td>\n",
       "      <td>Plesiomonas shigelloides was isolated from dis...</td>\n",
       "      <td>yes</td>\n",
       "      <td>1</td>\n",
       "    </tr>\n",
       "    <tr>\n",
       "      <th>4</th>\n",
       "      <td>Borland, L. K., C. J. Mulcahy, B. A. Bennie, D...</td>\n",
       "      <td>2020</td>\n",
       "      <td>Using markov chains to quantitatively assess m...</td>\n",
       "      <td>Natural Resource Modeling</td>\n",
       "      <td>33</td>\n",
       "      <td>4</td>\n",
       "      <td>NaN</td>\n",
       "      <td>Natural resource managers use barriers to dete...</td>\n",
       "      <td>yes</td>\n",
       "      <td>1</td>\n",
       "    </tr>\n",
       "  </tbody>\n",
       "</table>\n",
       "</div>"
      ],
      "text/plain": [
       "                                              Author  Year  \\\n",
       "0                   Aldridge, C. A., and E. C. Boone  2022   \n",
       "1       Banan, A., A. Nasiri, and A. Taheri-Garavand  2020   \n",
       "2  Barnes, M. A., W. L. Chadderton, C. L. Jerde, ...  2021   \n",
       "3  Behera, B. K., A. K. Bera, P. Paria, A. Das, P...  2018   \n",
       "4  Borland, L. K., C. J. Mulcahy, B. A. Bennie, D...  2020   \n",
       "\n",
       "                                               Title  \\\n",
       "0  Simple models to quickly estimate the probable...   \n",
       "1  Deep learning-based appearance features extrac...   \n",
       "2  Environmental conditions influence edna partic...   \n",
       "3  Identification and pathogenicity of plesiomona...   \n",
       "4  Using markov chains to quantitatively assess m...   \n",
       "\n",
       "                      Journal Name Volume Issue      Pages  \\\n",
       "0  River Research and Applications     38     6  1154-1166   \n",
       "1         Aquacultural Engineering     89   NaN        NaN   \n",
       "2                Environmental DNA      3     3    643-653   \n",
       "3                      Aquaculture    493   NaN    314-318   \n",
       "4        Natural Resource Modeling     33     4        NaN   \n",
       "\n",
       "                                            Abstract categories  encoding  \n",
       "0  Species distribution models provide biologists...        yes         1  \n",
       "1  Fish species identification is vital for aquac...        yes         1  \n",
       "2  Knowledge about the size of environmental DNA ...        yes         1  \n",
       "3  Plesiomonas shigelloides was isolated from dis...        yes         1  \n",
       "4  Natural resource managers use barriers to dete...        yes         1  "
      ]
     },
     "execution_count": 13,
     "metadata": {},
     "output_type": "execute_result"
    }
   ],
   "source": [
    "# Create new encoding for category column\n",
    "label_encoder = LabelEncoder()\n",
    "carp_file['encoding'] = label_encoder.fit_transform(carp_file['categories'])\n",
    "carp_file.head()\n"
   ]
  },
  {
   "cell_type": "code",
   "execution_count": null,
   "id": "d00ad0b4-acc3-4f6c-8a7c-26866de93a5c",
   "metadata": {},
   "outputs": [],
   "source": []
  },
  {
   "cell_type": "markdown",
   "id": "965928d0-4c0e-4802-a5b6-a73e5e24e8fc",
   "metadata": {},
   "source": [
    "#### Text Processing"
   ]
  },
  {
   "cell_type": "code",
   "execution_count": 14,
   "id": "2810f627-3407-4830-92ad-43c4685150ea",
   "metadata": {},
   "outputs": [],
   "source": [
    "# Removal of HTML tags and whitespace\n",
    "carp_file1 = carp_file\n",
    "\n",
    "# Function to remove HTML tags\n",
    "def basic_clean(text):\n",
    "    text = re.sub(r'<.*?>', '', text)\n",
    "    text = text.strip()\n",
    "    return text\n",
    "    \n",
    "carp_file1['Title'] = carp_file1['Title'].apply(basic_clean)\n",
    "carp_file1['Abstract'] = carp_file1['Abstract'].apply(basic_clean)\n"
   ]
  },
  {
   "cell_type": "code",
   "execution_count": 15,
   "id": "d0c6b170-e922-4e17-a9f4-2d5e1176cbc1",
   "metadata": {},
   "outputs": [],
   "source": [
    "# Remove punctuation, remove special characters, and remove stopwords\n",
    "carp_file2 = carp_file1\n",
    "\n",
    "# Get the set of English stopwords\n",
    "stop_words = set(stopwords.words('english'))\n",
    "\n",
    "# Function to clean text\n",
    "def advanced_clean(text):\n",
    "    text = text.lower()\n",
    "    text = text.translate(str.maketrans('', '', string.punctuation))\n",
    "    text = re.sub(r'[^\\w\\s]', '', text)\n",
    "\n",
    "    # Function to remove stopwords from text\n",
    "    def remove_stopwords(text):\n",
    "        # Tokenize the text\n",
    "        tokens = nltk.word_tokenize(text)\n",
    "        # Filter out stopwords\n",
    "        filtered_tokens = [word for word in tokens if word.lower() not in stop_words]\n",
    "        # Reconstruct the text without stopwords\n",
    "        text_without_stopwords = ' '.join(filtered_tokens)\n",
    "        return text_without_stopwords\n",
    "\n",
    "    text = remove_stopwords(text)\n",
    "    \n",
    "    return text\n",
    "\n",
    "carp_file2['Title'] = carp_file2['Title'].apply(advanced_clean)\n",
    "carp_file2['Abstract'] = carp_file2['Abstract'].apply(advanced_clean)\n",
    "\n"
   ]
  },
  {
   "cell_type": "code",
   "execution_count": 16,
   "id": "e36dfc24-d58e-4415-aa98-038dd606e6f8",
   "metadata": {},
   "outputs": [],
   "source": [
    "# Stemming\n",
    "carp_file3 = carp_file2\n",
    "\n",
    "stemmer = SnowballStemmer(language = 'english')\n",
    "def stem_words(text):\n",
    "    text = \" \".join([stemmer.stem(word) for word in text.split()])\n",
    "    return text\n",
    "    \n",
    "carp_file3['Title'] = carp_file3['Title'].apply(stem_words)\n",
    "carp_file3['Abstract'] = carp_file3['Abstract'].apply(stem_words)\n"
   ]
  },
  {
   "cell_type": "code",
   "execution_count": 17,
   "id": "8d9e1f5f-0272-451e-ac4f-b80a22606ba5",
   "metadata": {},
   "outputs": [],
   "source": [
    "# Lemmatize\n",
    "carp_file4 = carp_file2\n",
    "\n",
    "lemmatizer = WordNetLemmatizer()\n",
    "def lemmatize_words(text):\n",
    "    text = \" \".join([lemmatizer.lemmatize(word) for word in text.split()])\n",
    "    return text\n",
    "    \n",
    "carp_file4['Title'] = carp_file4['Title'].apply(stem_words)\n",
    "carp_file4['Abstract'] = carp_file4['Abstract'].apply(stem_words)\n"
   ]
  },
  {
   "cell_type": "code",
   "execution_count": 18,
   "id": "1852020f-4e75-4a90-b84a-711653742d1b",
   "metadata": {},
   "outputs": [],
   "source": [
    "# Remove numerical values\n",
    "carp_file5 = carp_file2\n",
    "\n",
    "# Function to remove HTML tags\n",
    "def remove_digits(text):\n",
    "    text = re.sub(r'\\d+', '', text)\n",
    "    return text\n",
    "    \n",
    "carp_file5['Title'] = carp_file5['Title'].apply(remove_digits)\n",
    "carp_file5['Abstract'] = carp_file5['Abstract'].apply(remove_digits)\n"
   ]
  },
  {
   "cell_type": "markdown",
   "id": "80b3efb1-1711-46ed-a2af-5bb5e2415093",
   "metadata": {},
   "source": [
    "#### Machine Learning Models"
   ]
  },
  {
   "cell_type": "code",
   "execution_count": 49,
   "id": "e1433a1b-14b0-41de-a9d8-05f915d42a9b",
   "metadata": {},
   "outputs": [
    {
     "data": {
      "text/html": [
       "<div>\n",
       "<style scoped>\n",
       "    .dataframe tbody tr th:only-of-type {\n",
       "        vertical-align: middle;\n",
       "    }\n",
       "\n",
       "    .dataframe tbody tr th {\n",
       "        vertical-align: top;\n",
       "    }\n",
       "\n",
       "    .dataframe thead th {\n",
       "        text-align: right;\n",
       "    }\n",
       "</style>\n",
       "<table border=\"1\" class=\"dataframe\">\n",
       "  <thead>\n",
       "    <tr style=\"text-align: right;\">\n",
       "      <th></th>\n",
       "      <th>Author</th>\n",
       "      <th>Year</th>\n",
       "      <th>Title</th>\n",
       "      <th>Journal Name</th>\n",
       "      <th>Volume</th>\n",
       "      <th>Issue</th>\n",
       "      <th>Pages</th>\n",
       "      <th>Abstract</th>\n",
       "      <th>categories</th>\n",
       "      <th>encoding</th>\n",
       "    </tr>\n",
       "  </thead>\n",
       "  <tbody>\n",
       "    <tr>\n",
       "      <th>0</th>\n",
       "      <td>Aldridge, C. A., and E. C. Boone</td>\n",
       "      <td>2022</td>\n",
       "      <td>simpl model quick estim probabl rang datalimit...</td>\n",
       "      <td>River Research and Applications</td>\n",
       "      <td>38</td>\n",
       "      <td>6</td>\n",
       "      <td>1154-1166</td>\n",
       "      <td>speci distribut model provid biologist insight...</td>\n",
       "      <td>yes</td>\n",
       "      <td>1</td>\n",
       "    </tr>\n",
       "    <tr>\n",
       "      <th>1</th>\n",
       "      <td>Banan, A., A. Nasiri, and A. Taheri-Garavand</td>\n",
       "      <td>2020</td>\n",
       "      <td>deep learningba appear featur extract autom ca...</td>\n",
       "      <td>Aquacultural Engineering</td>\n",
       "      <td>89</td>\n",
       "      <td>NaN</td>\n",
       "      <td>NaN</td>\n",
       "      <td>fish speci identif vital aquacultur fisheri in...</td>\n",
       "      <td>yes</td>\n",
       "      <td>1</td>\n",
       "    </tr>\n",
       "    <tr>\n",
       "      <th>2</th>\n",
       "      <td>Barnes, M. A., W. L. Chadderton, C. L. Jerde, ...</td>\n",
       "      <td>2021</td>\n",
       "      <td>environ condit influenc edna particl size dist...</td>\n",
       "      <td>Environmental DNA</td>\n",
       "      <td>3</td>\n",
       "      <td>3</td>\n",
       "      <td>643-653</td>\n",
       "      <td>knowledg size environ dna edna ednabear partic...</td>\n",
       "      <td>yes</td>\n",
       "      <td>1</td>\n",
       "    </tr>\n",
       "    <tr>\n",
       "      <th>3</th>\n",
       "      <td>Behera, B. K., A. K. Bera, P. Paria, A. Das, P...</td>\n",
       "      <td>2018</td>\n",
       "      <td>identif pathogen plesiomona shigelloid silver ...</td>\n",
       "      <td>Aquaculture</td>\n",
       "      <td>493</td>\n",
       "      <td>NaN</td>\n",
       "      <td>314-318</td>\n",
       "      <td>plesiomona shigelloid isol disea silver carp k...</td>\n",
       "      <td>yes</td>\n",
       "      <td>1</td>\n",
       "    </tr>\n",
       "    <tr>\n",
       "      <th>4</th>\n",
       "      <td>Borland, L. K., C. J. Mulcahy, B. A. Bennie, D...</td>\n",
       "      <td>2020</td>\n",
       "      <td>use markov chain quantit assess movement patte...</td>\n",
       "      <td>Natural Resource Modeling</td>\n",
       "      <td>33</td>\n",
       "      <td>4</td>\n",
       "      <td>NaN</td>\n",
       "      <td>natur resourc manag use barrier deter movement...</td>\n",
       "      <td>yes</td>\n",
       "      <td>1</td>\n",
       "    </tr>\n",
       "    <tr>\n",
       "      <th>...</th>\n",
       "      <td>...</td>\n",
       "      <td>...</td>\n",
       "      <td>...</td>\n",
       "      <td>...</td>\n",
       "      <td>...</td>\n",
       "      <td>...</td>\n",
       "      <td>...</td>\n",
       "      <td>...</td>\n",
       "      <td>...</td>\n",
       "      <td>...</td>\n",
       "    </tr>\n",
       "    <tr>\n",
       "      <th>299</th>\n",
       "      <td>Fang, D. A., Y. F. Zhou, P. Ren, Y. X. Peng, X...</td>\n",
       "      <td>2022</td>\n",
       "      <td>status silver carp resourc complementari mecha...</td>\n",
       "      <td>Frontiers in Marine Science</td>\n",
       "      <td>8</td>\n",
       "      <td>NaN</td>\n",
       "      <td>NaN</td>\n",
       "      <td>global climat environ variabl induc fish adapt...</td>\n",
       "      <td>no</td>\n",
       "      <td>0</td>\n",
       "    </tr>\n",
       "    <tr>\n",
       "      <th>388</th>\n",
       "      <td>Lin, C., Z. D. Deng, X. Shi, H. Dai, J. Wang, ...</td>\n",
       "      <td>2022</td>\n",
       "      <td>mutual promot constrain disentangl superimpo e...</td>\n",
       "      <td>Freshwater Biology</td>\n",
       "      <td>67</td>\n",
       "      <td>8</td>\n",
       "      <td>1468-1480</td>\n",
       "      <td>global climat chang speci inva human activ con...</td>\n",
       "      <td>no</td>\n",
       "      <td>0</td>\n",
       "    </tr>\n",
       "    <tr>\n",
       "      <th>326</th>\n",
       "      <td>Hamilton, M. G., W. Mekkawy, B. K. Barman, M. ...</td>\n",
       "      <td>2021</td>\n",
       "      <td>genet relationship among founder silver carp h...</td>\n",
       "      <td>Aquaculture</td>\n",
       "      <td>540</td>\n",
       "      <td>NaN</td>\n",
       "      <td>NaN</td>\n",
       "      <td>silver carp hypophthalmichthi molitrix import ...</td>\n",
       "      <td>no</td>\n",
       "      <td>0</td>\n",
       "    </tr>\n",
       "    <tr>\n",
       "      <th>301</th>\n",
       "      <td>Fang, M. X., S. B. Xiong, Y. Hu, T. Yin, and J...</td>\n",
       "      <td>2019</td>\n",
       "      <td>vitro pepsin digest silver carp hypophthalmich...</td>\n",
       "      <td>Food Hydrocolloids</td>\n",
       "      <td>95</td>\n",
       "      <td>NaN</td>\n",
       "      <td>152-160</td>\n",
       "      <td>addit microbi transglutamina mtgase surimi gel...</td>\n",
       "      <td>no</td>\n",
       "      <td>0</td>\n",
       "    </tr>\n",
       "    <tr>\n",
       "      <th>308</th>\n",
       "      <td>Gao, X., Y. R. Xie, T. Yin, Y. Hu, J. You, S. ...</td>\n",
       "      <td>2021</td>\n",
       "      <td>effect high inten ultrasound gelat properti si...</td>\n",
       "      <td>Ultrasonics Sonochemistry</td>\n",
       "      <td>70</td>\n",
       "      <td>NaN</td>\n",
       "      <td>NaN</td>\n",
       "      <td>surimi silver carp differ salt content  obtain...</td>\n",
       "      <td>no</td>\n",
       "      <td>0</td>\n",
       "    </tr>\n",
       "  </tbody>\n",
       "</table>\n",
       "<p>466 rows × 10 columns</p>\n",
       "</div>"
      ],
      "text/plain": [
       "                                                Author  Year  \\\n",
       "0                     Aldridge, C. A., and E. C. Boone  2022   \n",
       "1         Banan, A., A. Nasiri, and A. Taheri-Garavand  2020   \n",
       "2    Barnes, M. A., W. L. Chadderton, C. L. Jerde, ...  2021   \n",
       "3    Behera, B. K., A. K. Bera, P. Paria, A. Das, P...  2018   \n",
       "4    Borland, L. K., C. J. Mulcahy, B. A. Bennie, D...  2020   \n",
       "..                                                 ...   ...   \n",
       "299  Fang, D. A., Y. F. Zhou, P. Ren, Y. X. Peng, X...  2022   \n",
       "388  Lin, C., Z. D. Deng, X. Shi, H. Dai, J. Wang, ...  2022   \n",
       "326  Hamilton, M. G., W. Mekkawy, B. K. Barman, M. ...  2021   \n",
       "301  Fang, M. X., S. B. Xiong, Y. Hu, T. Yin, and J...  2019   \n",
       "308  Gao, X., Y. R. Xie, T. Yin, Y. Hu, J. You, S. ...  2021   \n",
       "\n",
       "                                                 Title  \\\n",
       "0    simpl model quick estim probabl rang datalimit...   \n",
       "1    deep learningba appear featur extract autom ca...   \n",
       "2    environ condit influenc edna particl size dist...   \n",
       "3    identif pathogen plesiomona shigelloid silver ...   \n",
       "4    use markov chain quantit assess movement patte...   \n",
       "..                                                 ...   \n",
       "299  status silver carp resourc complementari mecha...   \n",
       "388  mutual promot constrain disentangl superimpo e...   \n",
       "326  genet relationship among founder silver carp h...   \n",
       "301  vitro pepsin digest silver carp hypophthalmich...   \n",
       "308  effect high inten ultrasound gelat properti si...   \n",
       "\n",
       "                        Journal Name Volume Issue      Pages  \\\n",
       "0    River Research and Applications     38     6  1154-1166   \n",
       "1           Aquacultural Engineering     89   NaN        NaN   \n",
       "2                  Environmental DNA      3     3    643-653   \n",
       "3                        Aquaculture    493   NaN    314-318   \n",
       "4          Natural Resource Modeling     33     4        NaN   \n",
       "..                               ...    ...   ...        ...   \n",
       "299      Frontiers in Marine Science      8   NaN        NaN   \n",
       "388               Freshwater Biology     67     8  1468-1480   \n",
       "326                      Aquaculture    540   NaN        NaN   \n",
       "301               Food Hydrocolloids     95   NaN    152-160   \n",
       "308        Ultrasonics Sonochemistry     70   NaN        NaN   \n",
       "\n",
       "                                              Abstract categories  encoding  \n",
       "0    speci distribut model provid biologist insight...        yes         1  \n",
       "1    fish speci identif vital aquacultur fisheri in...        yes         1  \n",
       "2    knowledg size environ dna edna ednabear partic...        yes         1  \n",
       "3    plesiomona shigelloid isol disea silver carp k...        yes         1  \n",
       "4    natur resourc manag use barrier deter movement...        yes         1  \n",
       "..                                                 ...        ...       ...  \n",
       "299  global climat environ variabl induc fish adapt...         no         0  \n",
       "388  global climat chang speci inva human activ con...         no         0  \n",
       "326  silver carp hypophthalmichthi molitrix import ...         no         0  \n",
       "301  addit microbi transglutamina mtgase surimi gel...         no         0  \n",
       "308  surimi silver carp differ salt content  obtain...         no         0  \n",
       "\n",
       "[466 rows x 10 columns]"
      ]
     },
     "execution_count": 49,
     "metadata": {},
     "output_type": "execute_result"
    }
   ],
   "source": [
    "# Balance data categories\n",
    "print(len(carp_file1))\n",
    "\n",
    "# Count the number of rows in each category\n",
    "category_counts = carp_file1['encoding'].value_counts()\n",
    "\n",
    "# Find the minority category\n",
    "minority_category = category_counts.idxmin()\n",
    "\n",
    "# Get the size of the minority category\n",
    "minority_category_size = category_counts[minority_category]\n",
    "\n",
    "# Sample rows from the majority category to match the size of the minority category\n",
    "majority_category_rows = carp_file1[carp_file1['encoding'] != minority_category]\n",
    "balanced_majority_category_rows = majority_category_rows.sample(n=minority_category_size, random_state=42)\n",
    "\n",
    "# Get the minority category rows\n",
    "minority_category_rows = carp_file1[carp_file1['encoding'] == minority_category]\n",
    "\n",
    "# Concatenate the minority and balanced majority category rows\n",
    "carp_file1 = pd.concat([minority_category_rows, balanced_majority_category_rows])\n",
    "\n",
    "print(len(carp_file1))"
   ]
  },
  {
   "cell_type": "code",
   "execution_count": 108,
   "id": "41d50b0a-9e2f-4fa0-aee0-d16aa14b1c2a",
   "metadata": {},
   "outputs": [],
   "source": [
    "# X = carp_file1[['Title', 'Abstract']]\n",
    "# y = carp_file1['encoding']\n",
    "carp_file1[\"TitleAbstract\"] = carp_file1[\"Title\"] + ' ' + carp_file1[\"Abstract\"]\n",
    "\n",
    "# Split the data into training and test sets\n",
    "X_train_title, X_test_title, y_train, y_test = train_test_split(carp_file1['Title'], carp_file1['encoding'], test_size=0.2, random_state=42)\n",
    "X_train_abstract, X_test_abstract, _, _ = train_test_split(carp_file1['Abstract'], carp_file1['encoding'], test_size=0.2, random_state=42)\n",
    "X_train_combined, X_test_combined, _, _ = train_test_split(carp_file1['TitleAbstract'], carp_file1['encoding'], test_size=0.2, random_state=42)"
   ]
  },
  {
   "cell_type": "code",
   "execution_count": 113,
   "id": "915bed86-c45a-4227-9d7d-4983c1af8e87",
   "metadata": {},
   "outputs": [],
   "source": [
    "# Vectorize text data\n",
    "vectorizer = TfidfVectorizer()\n",
    "\n",
    "X_train_title_vec = vectorizer.fit_transform(X_train_title)\n",
    "X_test_title_vec = vectorizer.transform(X_test_title)\n",
    "\n",
    "X_train_abstract_vec = vectorizer.fit_transform(X_train_abstract)\n",
    "X_test_abstract_vec = vectorizer.transform(X_test_abstract)\n",
    "\n",
    "X_train_combined_vec = vectorizer.fit_transform(X_train_combined)\n",
    "X_test_combined_vec = vectorizer.transform(X_test_combined)"
   ]
  },
  {
   "cell_type": "code",
   "execution_count": 110,
   "id": "8cc2e958-b765-4f95-9233-467d1f55621c",
   "metadata": {},
   "outputs": [
    {
     "name": "stdout",
     "output_type": "stream",
     "text": [
      "0.6464646464646465\n",
      "0.6607387140902874\n",
      "0.6276595744680851\n"
     ]
    },
    {
     "data": {
      "text/plain": [
       "[<matplotlib.lines.Line2D at 0x2b6158e0c50>]"
      ]
     },
     "execution_count": 110,
     "metadata": {},
     "output_type": "execute_result"
    },
    {
     "data": {
      "image/png": "[encoded data removed]",
      "text/plain": [
       "<Figure size 640x480 with 1 Axes>"
      ]
     },
     "metadata": {},
     "output_type": "display_data"
    }
   ],
   "source": [
    "# Fit logistic regression model\n",
    "mod = LogisticRegression()\n",
    "mod.fit(X_train_title_vec, y_train)\n",
    "\n",
    "# Predict probabilities and classes\n",
    "y_pred = mod.predict(X_test_title_vec)\n",
    "y_pred_prob = mod.predict_proba(X_test_title_vec)[:, 1]\n",
    "\n",
    "# Calculate metrics\n",
    "f1 = f1_score(y_test, y_pred)\n",
    "auc = roc_auc_score(y_test, y_pred_prob)\n",
    "accuracy = accuracy_score(y_test, y_pred)\n",
    "print(f1)\n",
    "print(auc)\n",
    "print(accuracy)\n",
    "\n",
    "# Plot ROC curve\n",
    "fpr, tpr, _ = roc_curve(y_test, y_pred_prob)\n",
    "plt.plot(fpr, tpr)\n"
   ]
  },
  {
   "cell_type": "code",
   "execution_count": 111,
   "id": "c988c4bc-f4cf-40d2-8fdf-dde953100e9b",
   "metadata": {},
   "outputs": [
    {
     "name": "stdout",
     "output_type": "stream",
     "text": [
      "0.7\n",
      "0.7168262653898769\n",
      "0.6808510638297872\n"
     ]
    },
    {
     "data": {
      "text/plain": [
       "[<matplotlib.lines.Line2D at 0x2b60d7da960>]"
      ]
     },
     "execution_count": 111,
     "metadata": {},
     "output_type": "execute_result"
    },
    {
     "data": {
      "image/png": "[encoded data removed]",
      "text/plain": [
       "<Figure size 640x480 with 1 Axes>"
      ]
     },
     "metadata": {},
     "output_type": "display_data"
    }
   ],
   "source": [
    "# Fit logistic regression model\n",
    "mod = LogisticRegression()\n",
    "mod.fit(X_train_abstract_vec, y_train)\n",
    "\n",
    "# Predict probabilities and classes\n",
    "y_pred = mod.predict(X_test_abstract_vec)\n",
    "y_pred_prob = mod.predict_proba(X_test_abstract_vec)[:, 1]\n",
    "\n",
    "# Calculate metrics\n",
    "f1 = f1_score(y_test, y_pred)\n",
    "auc = roc_auc_score(y_test, y_pred_prob)\n",
    "accuracy = accuracy_score(y_test, y_pred)\n",
    "print(f1)\n",
    "print(auc)\n",
    "print(accuracy)\n",
    "\n",
    "# Plot ROC curve\n",
    "fpr, tpr, _ = roc_curve(y_test, y_pred_prob)\n",
    "plt.plot(fpr, tpr)"
   ]
  },
  {
   "cell_type": "code",
   "execution_count": 114,
   "id": "bc60098e-173b-4279-80d9-0986575b1a7b",
   "metadata": {
    "scrolled": true
   },
   "outputs": [
    {
     "name": "stdout",
     "output_type": "stream",
     "text": [
      "0.6990291262135923\n",
      "0.7250341997264023\n",
      "0.6702127659574468\n"
     ]
    },
    {
     "data": {
      "text/plain": [
       "[<matplotlib.lines.Line2D at 0x2b61601dbe0>]"
      ]
     },
     "execution_count": 114,
     "metadata": {},
     "output_type": "execute_result"
    },
    {
     "data": {
      "image/png": "[encoded data removed]",
      "text/plain": [
       "<Figure size 640x480 with 1 Axes>"
      ]
     },
     "metadata": {},
     "output_type": "display_data"
    }
   ],
   "source": [
    "# Fit logistic regression model\n",
    "mod = LogisticRegression()\n",
    "mod.fit(X_train_combined_vec, y_train_combined)\n",
    "\n",
    "# Predict probabilities and classes\n",
    "y_pred = mod.predict(X_test_combined_vec)\n",
    "y_pred_prob = mod.predict_proba(X_test_combined_vec)[:, 1]\n",
    "\n",
    "# Calculate metrics\n",
    "f1 = f1_score(y_test, y_pred)\n",
    "auc = roc_auc_score(y_test, y_pred_prob)\n",
    "accuracy = accuracy_score(y_test, y_pred)\n",
    "print(f1)\n",
    "print(auc)\n",
    "print(accuracy)\n",
    "\n",
    "# Plot ROC curve\n",
    "fpr, tpr, _ = roc_curve(y_test, y_pred_prob)\n",
    "plt.plot(fpr, tpr)"
   ]
  },
  {
   "cell_type": "code",
   "execution_count": null,
   "id": "a7dbb5b4-2dda-4e70-8163-1a32fc92a499",
   "metadata": {},
   "outputs": [],
   "source": []
  }
 ],
 "metadata": {
  "kernelspec": {
   "display_name": "venvArticleSelect",
   "language": "python",
   "name": "venvarticleselect"
  },
  "language_info": {
   "codemirror_mode": {
    "name": "ipython",
    "version": 3
   },
   "file_extension": ".py",
   "mimetype": "text/x-python",
   "name": "python",
   "nbconvert_exporter": "python",
   "pygments_lexer": "ipython3",
   "version": "3.12.2"
  }
 },
 "nbformat": 4,
 "nbformat_minor": 5
}
